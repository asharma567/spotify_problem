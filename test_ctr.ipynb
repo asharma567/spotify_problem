{
 "metadata": {
  "name": "",
  "signature": "sha256:7bf24aa4801497a1efca151474b28ecd9e1c5c8c291301ffccb39a90be29baaa"
 },
 "nbformat": 3,
 "nbformat_minor": 0,
 "worksheets": [
  {
   "cells": [
    {
     "cell_type": "code",
     "collapsed": false,
     "input": [
      "%load_ext autoreload\n",
      "\n",
      "%autoreload 2\n",
      "from spotify_take_home import * "
     ],
     "language": "python",
     "metadata": {},
     "outputs": [],
     "prompt_number": 1
    },
    {
     "cell_type": "code",
     "collapsed": false,
     "input": [
      "optimal_playlist = '''\n",
      "If i can't \n",
      "let it go \n",
      "out of my mind\n",
      "I'm scared\n",
      "my stupid heart\n",
      "my stupid mouth \n",
      "will try\n",
      "finding a way home \n",
      "home to you\n",
      "letting you know \n",
      "all the ways\n",
      "I want the world to stop \n",
      "with you\n",
      "'''\n",
      "main(optimal_playlist)"
     ],
     "language": "python",
     "metadata": {},
     "outputs": [
      {
       "output_type": "stream",
       "stream": "stdout",
       "text": [
        "I want the world to stop\n",
        "out of my mind\n",
        "finding a way home\n",
        "If i can't\n",
        "let it go\n",
        "my stupid heart\n",
        "my stupid mouth\n",
        "home to you\n",
        "letting you know\n",
        "all the ways\n",
        "I'm scared\n",
        "try\n"
       ]
      },
      {
       "output_type": "stream",
       "stream": "stderr",
       "text": [
        "/Users/Ajay/anaconda/lib/python2.7/site-packages/requests/packages/urllib3/util/ssl_.py:90: InsecurePlatformWarning: A true SSLContext object is not available. This prevents urllib3 from configuring SSL appropriately and may cause certain SSL connections to fail. For more information, see https://urllib3.readthedocs.org/en/latest/security.html#insecureplatformwarning.\n",
        "  InsecurePlatformWarning\n"
       ]
      }
     ],
     "prompt_number": 7
    },
    {
     "cell_type": "code",
     "collapsed": false,
     "input": [
      "poem_str1 = '''\n",
      "If i can't let it go out of my mind\n",
      "I'm scared\n",
      "my stupid heart\n",
      "my stupid mouth will try\n",
      "finding a way home home to you\n",
      "letting you know all the ways\n",
      "I want the world to stop with you\n",
      "'''\n",
      "main(poem_str1)"
     ],
     "language": "python",
     "metadata": {},
     "outputs": [
      {
       "output_type": "stream",
       "stream": "stdout",
       "text": [
        "I want the world to stop\n",
        "can't let it go\n",
        "out of my mind\n",
        "finding a way home\n",
        "my stupid heart\n",
        "my stupid mouth\n",
        "home to you\n",
        "letting you know\n",
        "all the ways\n",
        "I'm scared\n",
        "try\n"
       ]
      },
      {
       "output_type": "stream",
       "stream": "stderr",
       "text": [
        "/Users/Ajay/anaconda/lib/python2.7/site-packages/requests/packages/urllib3/util/ssl_.py:90: InsecurePlatformWarning: A true SSLContext object is not available. This prevents urllib3 from configuring SSL appropriately and may cause certain SSL connections to fail. For more information, see https://urllib3.readthedocs.org/en/latest/security.html#insecureplatformwarning.\n",
        "  InsecurePlatformWarning\n"
       ]
      }
     ],
     "prompt_number": 6
    },
    {
     "cell_type": "code",
     "collapsed": false,
     "input": [
      "poem_str2 = '''\n",
      "If i can't let it go out of my mind I'm scared my stupid heart my stupid mouth will try finding a way home home to you letting you know all the ways I want the world to stop with you\n",
      "'''\n",
      "\n",
      "main(poem_str2)"
     ],
     "language": "python",
     "metadata": {},
     "outputs": [
      {
       "output_type": "stream",
       "stream": "stdout",
       "text": [
        "I want the world to stop\n",
        "can't let it go\n",
        "out of my mind\n",
        "finding a way home\n",
        "my stupid heart\n",
        "my stupid mouth\n",
        "home to you\n",
        "letting you know\n",
        "all the ways\n",
        "I'm scared\n",
        "try\n"
       ]
      },
      {
       "output_type": "stream",
       "stream": "stderr",
       "text": [
        "/Users/Ajay/anaconda/lib/python2.7/site-packages/requests/packages/urllib3/util/ssl_.py:90: InsecurePlatformWarning: A true SSLContext object is not available. This prevents urllib3 from configuring SSL appropriately and may cause certain SSL connections to fail. For more information, see https://urllib3.readthedocs.org/en/latest/security.html#insecureplatformwarning.\n",
        "  InsecurePlatformWarning\n"
       ]
      }
     ],
     "prompt_number": 5
    },
    {
     "cell_type": "code",
     "collapsed": false,
     "input": [
      "for sub_str in poem_str.split('\\n'):\n",
      "    print sub_str\n",
      "    print 5 * '='\n",
      "    print main(sub_str)"
     ],
     "language": "python",
     "metadata": {},
     "outputs": [
      {
       "output_type": "stream",
       "stream": "stdout",
       "text": [
        "\n",
        "=====\n"
       ]
      },
      {
       "ename": "IndexError",
       "evalue": "list index out of range",
       "output_type": "pyerr",
       "traceback": [
        "\u001b[0;31m---------------------------------------------------------------------------\u001b[0m\n\u001b[0;31mIndexError\u001b[0m                                Traceback (most recent call last)",
        "\u001b[0;32m<ipython-input-4-22168602fa2e>\u001b[0m in \u001b[0;36m<module>\u001b[0;34m()\u001b[0m\n\u001b[1;32m      2\u001b[0m     \u001b[0;32mprint\u001b[0m \u001b[0msub_str\u001b[0m\u001b[0;34m\u001b[0m\u001b[0m\n\u001b[1;32m      3\u001b[0m     \u001b[0;32mprint\u001b[0m \u001b[0;36m5\u001b[0m \u001b[0;34m*\u001b[0m \u001b[0;34m'='\u001b[0m\u001b[0;34m\u001b[0m\u001b[0m\n\u001b[0;32m----> 4\u001b[0;31m     \u001b[0;32mprint\u001b[0m \u001b[0mmain\u001b[0m\u001b[0;34m(\u001b[0m\u001b[0msub_str\u001b[0m\u001b[0;34m)\u001b[0m\u001b[0;34m\u001b[0m\u001b[0m\n\u001b[0m",
        "\u001b[0;32m/Users/Ajay/spotify/spotify_take_home.pyc\u001b[0m in \u001b[0;36mmain\u001b[0;34m(command_line_input)\u001b[0m\n\u001b[1;32m     73\u001b[0m    \u001b[0mall_possible_track_names\u001b[0m \u001b[0;34m=\u001b[0m \u001b[0mquery_all_possibilities\u001b[0m\u001b[0;34m(\u001b[0m\u001b[0mcommand_line_input\u001b[0m\u001b[0;34m)\u001b[0m\u001b[0;34m\u001b[0m\u001b[0m\n\u001b[1;32m     74\u001b[0m    \u001b[0msorted_bag\u001b[0m \u001b[0;34m=\u001b[0m \u001b[0mfind_optimal\u001b[0m\u001b[0;34m(\u001b[0m\u001b[0mall_possible_track_names\u001b[0m\u001b[0;34m,\u001b[0m \u001b[0mcommand_line_input\u001b[0m\u001b[0;34m)\u001b[0m\u001b[0;34m\u001b[0m\u001b[0m\n\u001b[0;32m---> 75\u001b[0;31m    \u001b[0;32mprint\u001b[0m \u001b[0;34m'\\n'\u001b[0m\u001b[0;34m.\u001b[0m\u001b[0mjoin\u001b[0m\u001b[0;34m(\u001b[0m\u001b[0msorted_bag\u001b[0m\u001b[0;34m[\u001b[0m\u001b[0;36m0\u001b[0m\u001b[0;34m]\u001b[0m\u001b[0;34m[\u001b[0m\u001b[0;36m1\u001b[0m\u001b[0;34m]\u001b[0m\u001b[0;34m)\u001b[0m\u001b[0;34m\u001b[0m\u001b[0m\n\u001b[0m\u001b[1;32m     76\u001b[0m \u001b[0;34m\u001b[0m\u001b[0m\n\u001b[1;32m     77\u001b[0m \u001b[0;34m\u001b[0m\u001b[0m\n",
        "\u001b[0;31mIndexError\u001b[0m: list index out of range"
       ]
      }
     ],
     "prompt_number": 4
    }
   ],
   "metadata": {}
  }
 ]
}