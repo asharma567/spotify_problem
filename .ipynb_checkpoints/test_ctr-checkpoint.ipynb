{
 "metadata": {
  "name": "",
  "signature": "sha256:0717c9688ee33706ba8643aa128ba6c64c09ffa03f86ff9da7cd8bbbe4435568"
 },
 "nbformat": 3,
 "nbformat_minor": 0,
 "worksheets": []
}